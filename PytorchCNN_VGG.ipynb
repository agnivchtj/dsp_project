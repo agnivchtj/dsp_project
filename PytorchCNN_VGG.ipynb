{
 "cells": [
  {
   "cell_type": "code",
   "execution_count": 1,
   "metadata": {
    "_cell_guid": "b1076dfc-b9ad-4769-8c92-a6c4dae69d19",
    "_uuid": "8f2839f25d086af736a60e9eeb907d3b93b6e0e5",
    "execution": {
     "iopub.execute_input": "2023-01-26T11:40:12.855214Z",
     "iopub.status.busy": "2023-01-26T11:40:12.854844Z",
     "iopub.status.idle": "2023-01-26T11:40:12.877757Z",
     "shell.execute_reply": "2023-01-26T11:40:12.876861Z",
     "shell.execute_reply.started": "2023-01-26T11:40:12.855131Z"
    }
   },
   "outputs": [],
   "source": [
    "import pandas as pd\n",
    "import numpy as np"
   ]
  },
  {
   "cell_type": "code",
   "execution_count": 2,
   "metadata": {
    "execution": {
     "iopub.execute_input": "2023-01-26T11:40:31.040537Z",
     "iopub.status.busy": "2023-01-26T11:40:31.039615Z",
     "iopub.status.idle": "2023-01-26T11:40:31.083878Z",
     "shell.execute_reply": "2023-01-26T11:40:31.082722Z",
     "shell.execute_reply.started": "2023-01-26T11:40:31.040502Z"
    }
   },
   "outputs": [
    {
     "data": {
      "text/html": [
       "<div>\n",
       "<style scoped>\n",
       "    .dataframe tbody tr th:only-of-type {\n",
       "        vertical-align: middle;\n",
       "    }\n",
       "\n",
       "    .dataframe tbody tr th {\n",
       "        vertical-align: top;\n",
       "    }\n",
       "\n",
       "    .dataframe thead th {\n",
       "        text-align: right;\n",
       "    }\n",
       "</style>\n",
       "<table border=\"1\" class=\"dataframe\">\n",
       "  <thead>\n",
       "    <tr style=\"text-align: right;\">\n",
       "      <th></th>\n",
       "      <th>filename</th>\n",
       "      <th>emotion</th>\n",
       "      <th>label</th>\n",
       "    </tr>\n",
       "  </thead>\n",
       "  <tbody>\n",
       "    <tr>\n",
       "      <th>0</th>\n",
       "      <td>image_06637.jpg</td>\n",
       "      <td>angry</td>\n",
       "      <td>1</td>\n",
       "    </tr>\n",
       "    <tr>\n",
       "      <th>1</th>\n",
       "      <td>image_06638.jpg</td>\n",
       "      <td>angry</td>\n",
       "      <td>1</td>\n",
       "    </tr>\n",
       "    <tr>\n",
       "      <th>2</th>\n",
       "      <td>image_06639.jpg</td>\n",
       "      <td>disgust</td>\n",
       "      <td>6</td>\n",
       "    </tr>\n",
       "    <tr>\n",
       "      <th>3</th>\n",
       "      <td>image_06641.jpg</td>\n",
       "      <td>neutral</td>\n",
       "      <td>7</td>\n",
       "    </tr>\n",
       "    <tr>\n",
       "      <th>4</th>\n",
       "      <td>image_06642.jpg</td>\n",
       "      <td>sad</td>\n",
       "      <td>2</td>\n",
       "    </tr>\n",
       "    <tr>\n",
       "      <th>...</th>\n",
       "      <td>...</td>\n",
       "      <td>...</td>\n",
       "      <td>...</td>\n",
       "    </tr>\n",
       "    <tr>\n",
       "      <th>5831</th>\n",
       "      <td>image_08036.jpg</td>\n",
       "      <td>angry</td>\n",
       "      <td>1</td>\n",
       "    </tr>\n",
       "    <tr>\n",
       "      <th>5832</th>\n",
       "      <td>image_08035.jpg</td>\n",
       "      <td>neutral</td>\n",
       "      <td>7</td>\n",
       "    </tr>\n",
       "    <tr>\n",
       "      <th>5833</th>\n",
       "      <td>image_08038.jpg</td>\n",
       "      <td>sad</td>\n",
       "      <td>2</td>\n",
       "    </tr>\n",
       "    <tr>\n",
       "      <th>5834</th>\n",
       "      <td>image_08028.jpg</td>\n",
       "      <td>fear</td>\n",
       "      <td>4</td>\n",
       "    </tr>\n",
       "    <tr>\n",
       "      <th>5835</th>\n",
       "      <td>image_08026.jpg</td>\n",
       "      <td>angry</td>\n",
       "      <td>1</td>\n",
       "    </tr>\n",
       "  </tbody>\n",
       "</table>\n",
       "<p>5836 rows × 3 columns</p>\n",
       "</div>"
      ],
      "text/plain": [
       "             filename  emotion  label\n",
       "0     image_06637.jpg    angry      1\n",
       "1     image_06638.jpg    angry      1\n",
       "2     image_06639.jpg  disgust      6\n",
       "3     image_06641.jpg  neutral      7\n",
       "4     image_06642.jpg      sad      2\n",
       "...               ...      ...    ...\n",
       "5831  image_08036.jpg    angry      1\n",
       "5832  image_08035.jpg  neutral      7\n",
       "5833  image_08038.jpg      sad      2\n",
       "5834  image_08028.jpg     fear      4\n",
       "5835  image_08026.jpg    angry      1\n",
       "\n",
       "[5836 rows x 3 columns]"
      ]
     },
     "execution_count": 2,
     "metadata": {},
     "output_type": "execute_result"
    }
   ],
   "source": [
    "df = pd.read_csv('/kaggle/input/dsp-project/portrait_emotions_labels.csv')\n",
    "df"
   ]
  },
  {
   "cell_type": "code",
   "execution_count": 3,
   "metadata": {
    "execution": {
     "iopub.execute_input": "2023-01-26T11:40:33.510498Z",
     "iopub.status.busy": "2023-01-26T11:40:33.510138Z",
     "iopub.status.idle": "2023-01-26T11:40:33.530596Z",
     "shell.execute_reply": "2023-01-26T11:40:33.529654Z",
     "shell.execute_reply.started": "2023-01-26T11:40:33.510470Z"
    }
   },
   "outputs": [
    {
     "data": {
      "text/html": [
       "<div>\n",
       "<style scoped>\n",
       "    .dataframe tbody tr th:only-of-type {\n",
       "        vertical-align: middle;\n",
       "    }\n",
       "\n",
       "    .dataframe tbody tr th {\n",
       "        vertical-align: top;\n",
       "    }\n",
       "\n",
       "    .dataframe thead th {\n",
       "        text-align: right;\n",
       "    }\n",
       "</style>\n",
       "<table border=\"1\" class=\"dataframe\">\n",
       "  <thead>\n",
       "    <tr style=\"text-align: right;\">\n",
       "      <th></th>\n",
       "      <th>filename</th>\n",
       "      <th>emotion</th>\n",
       "    </tr>\n",
       "  </thead>\n",
       "  <tbody>\n",
       "    <tr>\n",
       "      <th>0</th>\n",
       "      <td>img_1.jpg</td>\n",
       "      <td>surprised</td>\n",
       "    </tr>\n",
       "    <tr>\n",
       "      <th>1</th>\n",
       "      <td>img_10.jpg</td>\n",
       "      <td>disgust</td>\n",
       "    </tr>\n",
       "    <tr>\n",
       "      <th>2</th>\n",
       "      <td>img_100.jpg</td>\n",
       "      <td>angry</td>\n",
       "    </tr>\n",
       "    <tr>\n",
       "      <th>3</th>\n",
       "      <td>img_101.jpg</td>\n",
       "      <td>fear</td>\n",
       "    </tr>\n",
       "    <tr>\n",
       "      <th>4</th>\n",
       "      <td>img_102.jpg</td>\n",
       "      <td>angry</td>\n",
       "    </tr>\n",
       "    <tr>\n",
       "      <th>...</th>\n",
       "      <td>...</td>\n",
       "      <td>...</td>\n",
       "    </tr>\n",
       "    <tr>\n",
       "      <th>761</th>\n",
       "      <td>img_95.jpg</td>\n",
       "      <td>surprised</td>\n",
       "    </tr>\n",
       "    <tr>\n",
       "      <th>762</th>\n",
       "      <td>img_96.jpg</td>\n",
       "      <td>surprised</td>\n",
       "    </tr>\n",
       "    <tr>\n",
       "      <th>763</th>\n",
       "      <td>img_97.jpg</td>\n",
       "      <td>happy</td>\n",
       "    </tr>\n",
       "    <tr>\n",
       "      <th>764</th>\n",
       "      <td>img_98.jpg</td>\n",
       "      <td>happy</td>\n",
       "    </tr>\n",
       "    <tr>\n",
       "      <th>765</th>\n",
       "      <td>img_99.jpg</td>\n",
       "      <td>angry</td>\n",
       "    </tr>\n",
       "  </tbody>\n",
       "</table>\n",
       "<p>766 rows × 2 columns</p>\n",
       "</div>"
      ],
      "text/plain": [
       "        filename    emotion\n",
       "0      img_1.jpg  surprised\n",
       "1     img_10.jpg    disgust\n",
       "2    img_100.jpg      angry\n",
       "3    img_101.jpg       fear\n",
       "4    img_102.jpg      angry\n",
       "..           ...        ...\n",
       "761   img_95.jpg  surprised\n",
       "762   img_96.jpg  surprised\n",
       "763   img_97.jpg      happy\n",
       "764   img_98.jpg      happy\n",
       "765   img_99.jpg      angry\n",
       "\n",
       "[766 rows x 2 columns]"
      ]
     },
     "execution_count": 3,
     "metadata": {},
     "output_type": "execute_result"
    }
   ],
   "source": [
    "df_test = pd.read_csv('/kaggle/input/dsp-project/rijks_emotion_cluster1.csv')\n",
    "df_test"
   ]
  },
  {
   "cell_type": "code",
   "execution_count": 4,
   "metadata": {
    "execution": {
     "iopub.execute_input": "2023-01-26T11:40:37.278469Z",
     "iopub.status.busy": "2023-01-26T11:40:37.278109Z",
     "iopub.status.idle": "2023-01-26T11:40:37.284724Z",
     "shell.execute_reply": "2023-01-26T11:40:37.283554Z",
     "shell.execute_reply.started": "2023-01-26T11:40:37.278438Z"
    }
   },
   "outputs": [],
   "source": [
    "def categorize(row):\n",
    "    if row['emotion'] == 'angry':\n",
    "        return 1\n",
    "    elif row['emotion'] == 'sad':\n",
    "        return 2\n",
    "    elif row['emotion'] == 'happy':\n",
    "        return 3\n",
    "    elif row['emotion'] == 'fear':\n",
    "        return 4\n",
    "    elif row['emotion'] == 'surprised':\n",
    "        return 5\n",
    "    elif row['emotion'] == 'disgust':\n",
    "        return 6\n",
    "    else:\n",
    "        return 7"
   ]
  },
  {
   "cell_type": "code",
   "execution_count": 5,
   "metadata": {
    "execution": {
     "iopub.execute_input": "2023-01-26T11:40:40.693206Z",
     "iopub.status.busy": "2023-01-26T11:40:40.692596Z",
     "iopub.status.idle": "2023-01-26T11:40:40.729505Z",
     "shell.execute_reply": "2023-01-26T11:40:40.728594Z",
     "shell.execute_reply.started": "2023-01-26T11:40:40.693170Z"
    }
   },
   "outputs": [
    {
     "data": {
      "text/html": [
       "<div>\n",
       "<style scoped>\n",
       "    .dataframe tbody tr th:only-of-type {\n",
       "        vertical-align: middle;\n",
       "    }\n",
       "\n",
       "    .dataframe tbody tr th {\n",
       "        vertical-align: top;\n",
       "    }\n",
       "\n",
       "    .dataframe thead th {\n",
       "        text-align: right;\n",
       "    }\n",
       "</style>\n",
       "<table border=\"1\" class=\"dataframe\">\n",
       "  <thead>\n",
       "    <tr style=\"text-align: right;\">\n",
       "      <th></th>\n",
       "      <th>filename</th>\n",
       "      <th>emotion</th>\n",
       "      <th>label</th>\n",
       "    </tr>\n",
       "  </thead>\n",
       "  <tbody>\n",
       "    <tr>\n",
       "      <th>0</th>\n",
       "      <td>img_1.jpg</td>\n",
       "      <td>surprised</td>\n",
       "      <td>5</td>\n",
       "    </tr>\n",
       "    <tr>\n",
       "      <th>1</th>\n",
       "      <td>img_10.jpg</td>\n",
       "      <td>disgust</td>\n",
       "      <td>6</td>\n",
       "    </tr>\n",
       "    <tr>\n",
       "      <th>2</th>\n",
       "      <td>img_100.jpg</td>\n",
       "      <td>angry</td>\n",
       "      <td>1</td>\n",
       "    </tr>\n",
       "    <tr>\n",
       "      <th>3</th>\n",
       "      <td>img_101.jpg</td>\n",
       "      <td>fear</td>\n",
       "      <td>4</td>\n",
       "    </tr>\n",
       "    <tr>\n",
       "      <th>4</th>\n",
       "      <td>img_102.jpg</td>\n",
       "      <td>angry</td>\n",
       "      <td>1</td>\n",
       "    </tr>\n",
       "    <tr>\n",
       "      <th>...</th>\n",
       "      <td>...</td>\n",
       "      <td>...</td>\n",
       "      <td>...</td>\n",
       "    </tr>\n",
       "    <tr>\n",
       "      <th>761</th>\n",
       "      <td>img_95.jpg</td>\n",
       "      <td>surprised</td>\n",
       "      <td>5</td>\n",
       "    </tr>\n",
       "    <tr>\n",
       "      <th>762</th>\n",
       "      <td>img_96.jpg</td>\n",
       "      <td>surprised</td>\n",
       "      <td>5</td>\n",
       "    </tr>\n",
       "    <tr>\n",
       "      <th>763</th>\n",
       "      <td>img_97.jpg</td>\n",
       "      <td>happy</td>\n",
       "      <td>3</td>\n",
       "    </tr>\n",
       "    <tr>\n",
       "      <th>764</th>\n",
       "      <td>img_98.jpg</td>\n",
       "      <td>happy</td>\n",
       "      <td>3</td>\n",
       "    </tr>\n",
       "    <tr>\n",
       "      <th>765</th>\n",
       "      <td>img_99.jpg</td>\n",
       "      <td>angry</td>\n",
       "      <td>1</td>\n",
       "    </tr>\n",
       "  </tbody>\n",
       "</table>\n",
       "<p>766 rows × 3 columns</p>\n",
       "</div>"
      ],
      "text/plain": [
       "        filename    emotion  label\n",
       "0      img_1.jpg  surprised      5\n",
       "1     img_10.jpg    disgust      6\n",
       "2    img_100.jpg      angry      1\n",
       "3    img_101.jpg       fear      4\n",
       "4    img_102.jpg      angry      1\n",
       "..           ...        ...    ...\n",
       "761   img_95.jpg  surprised      5\n",
       "762   img_96.jpg  surprised      5\n",
       "763   img_97.jpg      happy      3\n",
       "764   img_98.jpg      happy      3\n",
       "765   img_99.jpg      angry      1\n",
       "\n",
       "[766 rows x 3 columns]"
      ]
     },
     "execution_count": 5,
     "metadata": {},
     "output_type": "execute_result"
    }
   ],
   "source": [
    "df_test['label'] = df_test.apply(lambda x: categorize(x), axis=1)\n",
    "df_test"
   ]
  },
  {
   "cell_type": "code",
   "execution_count": 8,
   "metadata": {
    "execution": {
     "iopub.execute_input": "2023-01-26T11:40:44.367692Z",
     "iopub.status.busy": "2023-01-26T11:40:44.367222Z",
     "iopub.status.idle": "2023-01-26T11:40:46.463954Z",
     "shell.execute_reply": "2023-01-26T11:40:46.463009Z",
     "shell.execute_reply.started": "2023-01-26T11:40:44.367633Z"
    }
   },
   "outputs": [],
   "source": [
    "import cv2\n",
    "import csv\n",
    "import numpy as np\n",
    "import pandas as pd\n",
    "import matplotlib.pyplot as plt\n",
    "\n",
    "import torch\n",
    "import torchvision\n",
    "from PIL import Image\n",
    "import torch.nn as nn\n",
    "import torch.optim as optim\n",
    "import torchvision.transforms as transforms\n",
    "import torchvision.models as models\n",
    "\n",
    "from torch.utils.data import Dataset, DataLoader\n",
    "import torch.nn as nn \n",
    "import torch.nn.functional as F\n",
    "import torch.optim as optim\n",
    "from torchvision.io import read_image\n",
    "from torchvision.transforms import ToTensor, ToPILImage, Normalize, Compose"
   ]
  },
  {
   "cell_type": "code",
   "execution_count": 7,
   "metadata": {
    "execution": {
     "iopub.execute_input": "2023-01-26T11:40:50.306939Z",
     "iopub.status.busy": "2023-01-26T11:40:50.306405Z",
     "iopub.status.idle": "2023-01-26T11:40:52.048250Z",
     "shell.execute_reply": "2023-01-26T11:40:52.047272Z",
     "shell.execute_reply.started": "2023-01-26T11:40:50.306898Z"
    }
   },
   "outputs": [],
   "source": [
    "training_data = []\n",
    "\n",
    "for i in range(0, len(df)):\n",
    "    image, label = df.iloc[i]['filename'], df.iloc[i]['label']\n",
    "    path = '/kaggle/input/dsp-project/portrait_faces_preprocessed/portrait_faces_preprocessed/' + image\n",
    "    new_row = [path, int(label)]\n",
    "    training_data.append(new_row)"
   ]
  },
  {
   "cell_type": "code",
   "execution_count": 8,
   "metadata": {
    "execution": {
     "iopub.execute_input": "2023-01-26T11:40:53.608775Z",
     "iopub.status.busy": "2023-01-26T11:40:53.608397Z",
     "iopub.status.idle": "2023-01-26T11:40:53.614848Z",
     "shell.execute_reply": "2023-01-26T11:40:53.613754Z",
     "shell.execute_reply.started": "2023-01-26T11:40:53.608743Z"
    }
   },
   "outputs": [
    {
     "name": "stdout",
     "output_type": "stream",
     "text": [
      "5836\n"
     ]
    }
   ],
   "source": [
    "print(len(training_data))"
   ]
  },
  {
   "cell_type": "code",
   "execution_count": 9,
   "metadata": {
    "execution": {
     "iopub.execute_input": "2023-01-26T11:40:56.366314Z",
     "iopub.status.busy": "2023-01-26T11:40:56.365873Z",
     "iopub.status.idle": "2023-01-26T11:40:56.375738Z",
     "shell.execute_reply": "2023-01-26T11:40:56.373150Z",
     "shell.execute_reply.started": "2023-01-26T11:40:56.366278Z"
    }
   },
   "outputs": [
    {
     "name": "stdout",
     "output_type": "stream",
     "text": [
      "5836\n"
     ]
    }
   ],
   "source": [
    "train_set = training_data[0:int(len(training_data) * 0.8)]\n",
    "validation_set = training_data[int(len(training_data) * 0.8):]\n",
    "print(len(train_set) + len(validation_set))"
   ]
  },
  {
   "cell_type": "code",
   "execution_count": 10,
   "metadata": {
    "execution": {
     "iopub.execute_input": "2023-01-26T11:40:59.496881Z",
     "iopub.status.busy": "2023-01-26T11:40:59.496504Z",
     "iopub.status.idle": "2023-01-26T11:40:59.667341Z",
     "shell.execute_reply": "2023-01-26T11:40:59.666333Z",
     "shell.execute_reply.started": "2023-01-26T11:40:59.496848Z"
    }
   },
   "outputs": [],
   "source": [
    "test_set_filename = []\n",
    "test_set = []\n",
    "\n",
    "for i in range(0, len(df_test)):\n",
    "    image, label = df_test.iloc[i]['filename'].rsplit('/', 1)[-1], df_test.iloc[i]['label']\n",
    "    path = '/kaggle/input/dsp-project/cropped_images_preprocessed/cropped_images_preprocessed/' + image\n",
    "    new_row = [path, int(label)]\n",
    "    test_set_filename.append(image)\n",
    "    test_set.append(new_row)"
   ]
  },
  {
   "cell_type": "code",
   "execution_count": 11,
   "metadata": {
    "execution": {
     "iopub.execute_input": "2023-01-26T11:41:01.905753Z",
     "iopub.status.busy": "2023-01-26T11:41:01.905379Z",
     "iopub.status.idle": "2023-01-26T11:41:01.911255Z",
     "shell.execute_reply": "2023-01-26T11:41:01.910282Z",
     "shell.execute_reply.started": "2023-01-26T11:41:01.905721Z"
    }
   },
   "outputs": [
    {
     "name": "stdout",
     "output_type": "stream",
     "text": [
      "766\n"
     ]
    }
   ],
   "source": [
    "print(len(test_set))"
   ]
  },
  {
   "cell_type": "code",
   "execution_count": 12,
   "metadata": {
    "execution": {
     "iopub.execute_input": "2023-01-26T11:41:04.223462Z",
     "iopub.status.busy": "2023-01-26T11:41:04.223048Z",
     "iopub.status.idle": "2023-01-26T11:41:04.230396Z",
     "shell.execute_reply": "2023-01-26T11:41:04.229037Z",
     "shell.execute_reply.started": "2023-01-26T11:41:04.223426Z"
    }
   },
   "outputs": [],
   "source": [
    "# Create a map for the labels and their codes\n",
    "labels = ['angry', 'sad', 'happy', 'fear', 'surprise', 'disgust', 'neutral']\n",
    "class_map = {}\n",
    "i = 1\n",
    "    \n",
    "for label in labels:\n",
    "    class_map[i] = label\n",
    "    i += 1"
   ]
  },
  {
   "cell_type": "code",
   "execution_count": 13,
   "metadata": {
    "execution": {
     "iopub.execute_input": "2023-01-26T11:41:07.538871Z",
     "iopub.status.busy": "2023-01-26T11:41:07.538483Z",
     "iopub.status.idle": "2023-01-26T11:41:07.544544Z",
     "shell.execute_reply": "2023-01-26T11:41:07.543398Z",
     "shell.execute_reply.started": "2023-01-26T11:41:07.538833Z"
    }
   },
   "outputs": [
    {
     "name": "stdout",
     "output_type": "stream",
     "text": [
      "{1: 'angry', 2: 'sad', 3: 'happy', 4: 'fear', 5: 'surprise', 6: 'disgust', 7: 'neutral'}\n"
     ]
    }
   ],
   "source": [
    "print(class_map)"
   ]
  },
  {
   "cell_type": "code",
   "execution_count": 14,
   "metadata": {
    "execution": {
     "iopub.execute_input": "2023-01-26T11:41:14.581545Z",
     "iopub.status.busy": "2023-01-26T11:41:14.581177Z",
     "iopub.status.idle": "2023-01-26T11:41:14.591826Z",
     "shell.execute_reply": "2023-01-26T11:41:14.590726Z",
     "shell.execute_reply.started": "2023-01-26T11:41:14.581514Z"
    }
   },
   "outputs": [],
   "source": [
    "# Class for loading of the data\n",
    "class own_data(Dataset):\n",
    "    def __init__(self, train=0, transform=None):\n",
    "        if train == 0:\n",
    "            self.data = train_set\n",
    "        elif train == 1:\n",
    "            self.data = validation_set\n",
    "        else:\n",
    "            self.data = test_set\n",
    "            \n",
    "        self.transform = transform\n",
    "        self.to_pil = ToPILImage()\n",
    "\n",
    "    def __len__(self):\n",
    "        return len(self.data)\n",
    "\n",
    "    def __getitem__(self, idx):\n",
    "        img_path, class_id = self.data[idx]\n",
    "        image = read_image(img_path)\n",
    "        \n",
    "        if self.transform:\n",
    "            image = self.transform(self.to_pil(image))\n",
    "        \n",
    "        return image, class_id"
   ]
  },
  {
   "cell_type": "code",
   "execution_count": 15,
   "metadata": {
    "execution": {
     "iopub.execute_input": "2023-01-26T11:41:17.779393Z",
     "iopub.status.busy": "2023-01-26T11:41:17.778965Z",
     "iopub.status.idle": "2023-01-26T11:44:03.670651Z",
     "shell.execute_reply": "2023-01-26T11:44:03.669606Z",
     "shell.execute_reply.started": "2023-01-26T11:41:17.779347Z"
    }
   },
   "outputs": [
    {
     "name": "stderr",
     "output_type": "stream",
     "text": [
      "Downloading: \"https://download.pytorch.org/models/vgg19-dcbb9e9d.pth\" to /root/.cache/torch/hub/checkpoints/vgg19-dcbb9e9d.pth\n"
     ]
    },
    {
     "data": {
      "application/vnd.jupyter.widget-view+json": {
       "model_id": "8f58dd3285514cd8bf415cf31e1304d3",
       "version_major": 2,
       "version_minor": 0
      },
      "text/plain": [
       "  0%|          | 0.00/548M [00:00<?, ?B/s]"
      ]
     },
     "metadata": {},
     "output_type": "display_data"
    },
    {
     "data": {
      "text/plain": [
       "<All keys matched successfully>"
      ]
     },
     "execution_count": 15,
     "metadata": {},
     "output_type": "execute_result"
    }
   ],
   "source": [
    "from torchvision.models import vgg19\n",
    "\n",
    "model = vgg19(pretrained=True)\n",
    "model.load_state_dict(torch.load('/kaggle/input/model-vgg19/vgg19_base'))"
   ]
  },
  {
   "cell_type": "code",
   "execution_count": 16,
   "metadata": {
    "execution": {
     "iopub.execute_input": "2023-01-26T11:44:24.620632Z",
     "iopub.status.busy": "2023-01-26T11:44:24.619551Z",
     "iopub.status.idle": "2023-01-26T11:44:25.798592Z",
     "shell.execute_reply": "2023-01-26T11:44:25.797453Z",
     "shell.execute_reply.started": "2023-01-26T11:44:24.620576Z"
    }
   },
   "outputs": [
    {
     "name": "stdout",
     "output_type": "stream",
     "text": [
      "VGG(\n",
      "  (features): Sequential(\n",
      "    (0): Conv2d(3, 64, kernel_size=(3, 3), stride=(1, 1), padding=(1, 1))\n",
      "    (1): ReLU(inplace=True)\n",
      "    (2): Conv2d(64, 64, kernel_size=(3, 3), stride=(1, 1), padding=(1, 1))\n",
      "    (3): ReLU(inplace=True)\n",
      "    (4): MaxPool2d(kernel_size=2, stride=2, padding=0, dilation=1, ceil_mode=False)\n",
      "    (5): Conv2d(64, 128, kernel_size=(3, 3), stride=(1, 1), padding=(1, 1))\n",
      "    (6): ReLU(inplace=True)\n",
      "    (7): Conv2d(128, 128, kernel_size=(3, 3), stride=(1, 1), padding=(1, 1))\n",
      "    (8): ReLU(inplace=True)\n",
      "    (9): MaxPool2d(kernel_size=2, stride=2, padding=0, dilation=1, ceil_mode=False)\n",
      "    (10): Conv2d(128, 256, kernel_size=(3, 3), stride=(1, 1), padding=(1, 1))\n",
      "    (11): ReLU(inplace=True)\n",
      "    (12): Conv2d(256, 256, kernel_size=(3, 3), stride=(1, 1), padding=(1, 1))\n",
      "    (13): ReLU(inplace=True)\n",
      "    (14): Conv2d(256, 256, kernel_size=(3, 3), stride=(1, 1), padding=(1, 1))\n",
      "    (15): ReLU(inplace=True)\n",
      "    (16): Conv2d(256, 256, kernel_size=(3, 3), stride=(1, 1), padding=(1, 1))\n",
      "    (17): ReLU(inplace=True)\n",
      "    (18): MaxPool2d(kernel_size=2, stride=2, padding=0, dilation=1, ceil_mode=False)\n",
      "    (19): Conv2d(256, 512, kernel_size=(3, 3), stride=(1, 1), padding=(1, 1))\n",
      "    (20): ReLU(inplace=True)\n",
      "    (21): Conv2d(512, 512, kernel_size=(3, 3), stride=(1, 1), padding=(1, 1))\n",
      "    (22): ReLU(inplace=True)\n",
      "    (23): Conv2d(512, 512, kernel_size=(3, 3), stride=(1, 1), padding=(1, 1))\n",
      "    (24): ReLU(inplace=True)\n",
      "    (25): Conv2d(512, 512, kernel_size=(3, 3), stride=(1, 1), padding=(1, 1))\n",
      "    (26): ReLU(inplace=True)\n",
      "    (27): MaxPool2d(kernel_size=2, stride=2, padding=0, dilation=1, ceil_mode=False)\n",
      "    (28): Conv2d(512, 512, kernel_size=(3, 3), stride=(1, 1), padding=(1, 1))\n",
      "    (29): ReLU(inplace=True)\n",
      "    (30): Conv2d(512, 512, kernel_size=(3, 3), stride=(1, 1), padding=(1, 1))\n",
      "    (31): ReLU(inplace=True)\n",
      "    (32): Conv2d(512, 512, kernel_size=(3, 3), stride=(1, 1), padding=(1, 1))\n",
      "    (33): ReLU(inplace=True)\n",
      "    (34): Conv2d(512, 512, kernel_size=(3, 3), stride=(1, 1), padding=(1, 1))\n",
      "    (35): ReLU(inplace=True)\n",
      "    (36): MaxPool2d(kernel_size=2, stride=2, padding=0, dilation=1, ceil_mode=False)\n",
      "  )\n",
      "  (avgpool): AdaptiveAvgPool2d(output_size=(7, 7))\n",
      "  (classifier): Sequential(\n",
      "    (0): Linear(in_features=25088, out_features=4096, bias=True)\n",
      "    (1): ReLU(inplace=True)\n",
      "    (2): Dropout(p=0.5, inplace=False)\n",
      "    (3): Linear(in_features=4096, out_features=4096, bias=True)\n",
      "    (4): ReLU(inplace=True)\n",
      "    (5): Dropout(p=0.5, inplace=False)\n",
      "    (6): Linear(in_features=4096, out_features=7, bias=True)\n",
      "  )\n",
      ")\n"
     ]
    }
   ],
   "source": [
    "# Freeze model parameters\n",
    "for param in model.parameters():\n",
    "    param.requires_grad = False\n",
    "    \n",
    "# Change the final layer of VGG-19 Model for Transfer Learning\n",
    "model.classifier = nn.Sequential(\n",
    "    nn.Linear(in_features=25088, out_features=4096), \n",
    "    nn.ReLU(inplace=True), \n",
    "    nn.Dropout(p=0.5, inplace=False),\n",
    "    nn.Linear(in_features=4096, out_features=4096, bias=True), \n",
    "    nn.ReLU(inplace=True), \n",
    "    nn.Dropout(p=0.5, inplace=False), \n",
    "    nn.Linear(in_features=4096, out_features=7, bias=True)\n",
    ")\n",
    "\n",
    "print(model)"
   ]
  },
  {
   "cell_type": "code",
   "execution_count": 17,
   "metadata": {
    "execution": {
     "iopub.execute_input": "2023-01-26T11:45:28.496916Z",
     "iopub.status.busy": "2023-01-26T11:45:28.496538Z",
     "iopub.status.idle": "2023-01-26T11:45:28.502599Z",
     "shell.execute_reply": "2023-01-26T11:45:28.501527Z",
     "shell.execute_reply.started": "2023-01-26T11:45:28.496873Z"
    }
   },
   "outputs": [],
   "source": [
    "preprocess = transforms.Compose([\n",
    "    transforms.Resize(256), \n",
    "    transforms.CenterCrop(size=224), \n",
    "    transforms.ToTensor(), \n",
    "    transforms.Normalize((0.485, 0.456, 0.406), (0.229, 0.224, 0.225))\n",
    "])"
   ]
  },
  {
   "cell_type": "code",
   "execution_count": 18,
   "metadata": {
    "execution": {
     "iopub.execute_input": "2023-01-26T11:46:58.119327Z",
     "iopub.status.busy": "2023-01-26T11:46:58.118614Z",
     "iopub.status.idle": "2023-01-26T11:46:58.125049Z",
     "shell.execute_reply": "2023-01-26T11:46:58.124080Z",
     "shell.execute_reply.started": "2023-01-26T11:46:58.119289Z"
    }
   },
   "outputs": [],
   "source": [
    "# Initialize the batch size\n",
    "batch_size = 64\n",
    "\n",
    "# Load the train and test data\n",
    "train_data = own_data(0, preprocess)\n",
    "validation_data = own_data(1, preprocess)\n",
    "test_data = own_data(2, preprocess)\n",
    "\n",
    "train_loader = DataLoader(train_data, batch_size=batch_size, shuffle=True)\n",
    "validation_loader = DataLoader(validation_data, batch_size=batch_size, shuffle=True)\n",
    "test_loader = DataLoader(test_data, batch_size=batch_size, shuffle=False)"
   ]
  },
  {
   "cell_type": "code",
   "execution_count": 19,
   "metadata": {
    "execution": {
     "iopub.execute_input": "2023-01-26T11:47:01.305127Z",
     "iopub.status.busy": "2023-01-26T11:47:01.304764Z",
     "iopub.status.idle": "2023-01-26T11:47:01.312488Z",
     "shell.execute_reply": "2023-01-26T11:47:01.311046Z",
     "shell.execute_reply.started": "2023-01-26T11:47:01.305099Z"
    }
   },
   "outputs": [
    {
     "data": {
      "text/plain": [
       "VGG(\n",
       "  (features): Sequential(\n",
       "    (0): Conv2d(3, 64, kernel_size=(3, 3), stride=(1, 1), padding=(1, 1))\n",
       "    (1): ReLU(inplace=True)\n",
       "    (2): Conv2d(64, 64, kernel_size=(3, 3), stride=(1, 1), padding=(1, 1))\n",
       "    (3): ReLU(inplace=True)\n",
       "    (4): MaxPool2d(kernel_size=2, stride=2, padding=0, dilation=1, ceil_mode=False)\n",
       "    (5): Conv2d(64, 128, kernel_size=(3, 3), stride=(1, 1), padding=(1, 1))\n",
       "    (6): ReLU(inplace=True)\n",
       "    (7): Conv2d(128, 128, kernel_size=(3, 3), stride=(1, 1), padding=(1, 1))\n",
       "    (8): ReLU(inplace=True)\n",
       "    (9): MaxPool2d(kernel_size=2, stride=2, padding=0, dilation=1, ceil_mode=False)\n",
       "    (10): Conv2d(128, 256, kernel_size=(3, 3), stride=(1, 1), padding=(1, 1))\n",
       "    (11): ReLU(inplace=True)\n",
       "    (12): Conv2d(256, 256, kernel_size=(3, 3), stride=(1, 1), padding=(1, 1))\n",
       "    (13): ReLU(inplace=True)\n",
       "    (14): Conv2d(256, 256, kernel_size=(3, 3), stride=(1, 1), padding=(1, 1))\n",
       "    (15): ReLU(inplace=True)\n",
       "    (16): Conv2d(256, 256, kernel_size=(3, 3), stride=(1, 1), padding=(1, 1))\n",
       "    (17): ReLU(inplace=True)\n",
       "    (18): MaxPool2d(kernel_size=2, stride=2, padding=0, dilation=1, ceil_mode=False)\n",
       "    (19): Conv2d(256, 512, kernel_size=(3, 3), stride=(1, 1), padding=(1, 1))\n",
       "    (20): ReLU(inplace=True)\n",
       "    (21): Conv2d(512, 512, kernel_size=(3, 3), stride=(1, 1), padding=(1, 1))\n",
       "    (22): ReLU(inplace=True)\n",
       "    (23): Conv2d(512, 512, kernel_size=(3, 3), stride=(1, 1), padding=(1, 1))\n",
       "    (24): ReLU(inplace=True)\n",
       "    (25): Conv2d(512, 512, kernel_size=(3, 3), stride=(1, 1), padding=(1, 1))\n",
       "    (26): ReLU(inplace=True)\n",
       "    (27): MaxPool2d(kernel_size=2, stride=2, padding=0, dilation=1, ceil_mode=False)\n",
       "    (28): Conv2d(512, 512, kernel_size=(3, 3), stride=(1, 1), padding=(1, 1))\n",
       "    (29): ReLU(inplace=True)\n",
       "    (30): Conv2d(512, 512, kernel_size=(3, 3), stride=(1, 1), padding=(1, 1))\n",
       "    (31): ReLU(inplace=True)\n",
       "    (32): Conv2d(512, 512, kernel_size=(3, 3), stride=(1, 1), padding=(1, 1))\n",
       "    (33): ReLU(inplace=True)\n",
       "    (34): Conv2d(512, 512, kernel_size=(3, 3), stride=(1, 1), padding=(1, 1))\n",
       "    (35): ReLU(inplace=True)\n",
       "    (36): MaxPool2d(kernel_size=2, stride=2, padding=0, dilation=1, ceil_mode=False)\n",
       "  )\n",
       "  (avgpool): AdaptiveAvgPool2d(output_size=(7, 7))\n",
       "  (classifier): Sequential(\n",
       "    (0): Linear(in_features=25088, out_features=4096, bias=True)\n",
       "    (1): ReLU(inplace=True)\n",
       "    (2): Dropout(p=0.5, inplace=False)\n",
       "    (3): Linear(in_features=4096, out_features=4096, bias=True)\n",
       "    (4): ReLU(inplace=True)\n",
       "    (5): Dropout(p=0.5, inplace=False)\n",
       "    (6): Linear(in_features=4096, out_features=7, bias=True)\n",
       "  )\n",
       ")"
      ]
     },
     "execution_count": 19,
     "metadata": {},
     "output_type": "execute_result"
    }
   ],
   "source": [
    "model.train()"
   ]
  },
  {
   "cell_type": "code",
   "execution_count": 10,
   "metadata": {},
   "outputs": [],
   "source": [
    "cross = nn.CrossEntropyLoss()"
   ]
  },
  {
   "cell_type": "code",
   "execution_count": null,
   "metadata": {},
   "outputs": [],
   "source": [
    "cross = nn.CrossEntropyLoss()\n",
    "sgd = optim.SGD(model.parameters(), lr=0.001, momentum=0.9)"
   ]
  },
  {
   "cell_type": "code",
   "execution_count": 21,
   "metadata": {
    "execution": {
     "iopub.execute_input": "2023-01-26T11:47:10.149543Z",
     "iopub.status.busy": "2023-01-26T11:47:10.149181Z",
     "iopub.status.idle": "2023-01-26T11:47:10.157103Z",
     "shell.execute_reply": "2023-01-26T11:47:10.155801Z",
     "shell.execute_reply.started": "2023-01-26T11:47:10.149511Z"
    }
   },
   "outputs": [],
   "source": [
    "# Define the train model function\n",
    "def train_model(train_loader, model, loss_function, optimizer, batch_size, device=None):\n",
    "    for batch, (image, label) in enumerate(train_loader):\n",
    "        # Move labels and images to GPU\n",
    "        image = image.cuda()\n",
    "        label = label.cuda()\n",
    "\n",
    "        optimizer.zero_grad()\n",
    "        output = model(image)\n",
    "        label = label - 1\n",
    "        loss_func = loss_function(output, label)\n",
    "        loss_func.backward()\n",
    "        optimizer.step()\n",
    "        \n",
    "        if batch % 64 == 0:\n",
    "            print('[%5d] loss: %.3f' % (batch + 1, loss_func.item()))"
   ]
  },
  {
   "cell_type": "code",
   "execution_count": 22,
   "metadata": {
    "execution": {
     "iopub.execute_input": "2023-01-26T11:47:14.828786Z",
     "iopub.status.busy": "2023-01-26T11:47:14.828383Z",
     "iopub.status.idle": "2023-01-26T11:47:14.836346Z",
     "shell.execute_reply": "2023-01-26T11:47:14.835210Z",
     "shell.execute_reply.started": "2023-01-26T11:47:14.828753Z"
    }
   },
   "outputs": [],
   "source": [
    "# Test function\n",
    "def validate_model(validation_loader, model, loss_function, batch_size, device=None):\n",
    "    size = len(validation_loader.dataset)\n",
    "    validation_loss, correct = 0, 0\n",
    "    \n",
    "    with torch.no_grad():\n",
    "        for image, label in validation_loader:\n",
    "            # Move labels and images to GPU\n",
    "            image = image.cuda()\n",
    "            label = label.cuda()\n",
    "            \n",
    "            output = model(image)\n",
    "            label = label - 1\n",
    "            validation_loss += loss_function(output, label).item()\n",
    "            correct += (output.argmax(1) == label).type(torch.float).sum().item()\n",
    "    \n",
    "    validation_loss /= batch_size\n",
    "    correct /= size\n",
    "    print(f\"Test error: \\n Accuracy: {(100 * correct):>0.01f}%, Avg loss: {validation_loss:>8f} \\n\")"
   ]
  },
  {
   "cell_type": "code",
   "execution_count": 23,
   "metadata": {
    "execution": {
     "iopub.execute_input": "2023-01-26T11:47:19.959975Z",
     "iopub.status.busy": "2023-01-26T11:47:19.959598Z",
     "iopub.status.idle": "2023-01-26T11:47:22.922055Z",
     "shell.execute_reply": "2023-01-26T11:47:22.920902Z",
     "shell.execute_reply.started": "2023-01-26T11:47:19.959945Z"
    }
   },
   "outputs": [
    {
     "name": "stdout",
     "output_type": "stream",
     "text": [
      "CUDA used\n",
      "1\n",
      "0\n",
      "<torch.cuda.device object at 0x7f46a6706f10>\n",
      "Tesla P100-PCIE-16GB\n"
     ]
    }
   ],
   "source": [
    "device = None\n",
    "\n",
    "if device == None:\n",
    "    if torch.cuda.is_available():\n",
    "        print(\"CUDA used\")\n",
    "        device = torch.device('cuda')\n",
    "        model.cuda()\n",
    "\n",
    "        # Should be > 0\n",
    "        print(torch.cuda.device_count())\n",
    "\n",
    "        # Index of device used (can be 0)\n",
    "        print(torch.cuda.current_device())\n",
    "\n",
    "        # GPU location\n",
    "        print(torch.cuda.device(0))\n",
    "\n",
    "        # Name of GPU\n",
    "        print(torch.cuda.get_device_name(0))\n",
    "\n",
    "    else:\n",
    "        print(\"CPU used\")\n",
    "        device = torch.device('cpu')\n",
    "\n",
    "# Force CPU use\n",
    "# device = torch.device('cpu')"
   ]
  },
  {
   "cell_type": "code",
   "execution_count": 24,
   "metadata": {
    "execution": {
     "iopub.execute_input": "2023-01-26T11:47:26.256831Z",
     "iopub.status.busy": "2023-01-26T11:47:26.256447Z",
     "iopub.status.idle": "2023-01-26T11:54:04.453967Z",
     "shell.execute_reply": "2023-01-26T11:54:04.452944Z",
     "shell.execute_reply.started": "2023-01-26T11:47:26.256798Z"
    }
   },
   "outputs": [
    {
     "name": "stdout",
     "output_type": "stream",
     "text": [
      "Epoch 1\n",
      "-------------------------------\n",
      "[    1] loss: 1.976\n",
      "[   65] loss: 1.330\n",
      "Test error: \n",
      " Accuracy: 59.5%, Avg loss: 0.351246 \n",
      "\n",
      "Epoch 2\n",
      "-------------------------------\n",
      "[    1] loss: 1.109\n",
      "[   65] loss: 0.966\n",
      "Test error: \n",
      " Accuracy: 66.7%, Avg loss: 0.266271 \n",
      "\n",
      "Epoch 3\n",
      "-------------------------------\n",
      "[    1] loss: 1.103\n",
      "[   65] loss: 0.825\n",
      "Test error: \n",
      " Accuracy: 68.6%, Avg loss: 0.240385 \n",
      "\n",
      "Epoch 4\n",
      "-------------------------------\n",
      "[    1] loss: 0.772\n",
      "[   65] loss: 0.597\n",
      "Test error: \n",
      " Accuracy: 70.4%, Avg loss: 0.227558 \n",
      "\n",
      "Epoch 5\n",
      "-------------------------------\n",
      "[    1] loss: 0.656\n",
      "[   65] loss: 0.704\n",
      "Test error: \n",
      " Accuracy: 70.9%, Avg loss: 0.220732 \n",
      "\n",
      "Epoch 6\n",
      "-------------------------------\n",
      "[    1] loss: 0.746\n",
      "[   65] loss: 0.545\n",
      "Test error: \n",
      " Accuracy: 71.2%, Avg loss: 0.213660 \n",
      "\n",
      "Epoch 7\n",
      "-------------------------------\n",
      "[    1] loss: 0.424\n",
      "[   65] loss: 0.512\n",
      "Test error: \n",
      " Accuracy: 72.3%, Avg loss: 0.214789 \n",
      "\n",
      "Epoch 8\n",
      "-------------------------------\n",
      "[    1] loss: 0.579\n",
      "[   65] loss: 0.510\n",
      "Test error: \n",
      " Accuracy: 72.2%, Avg loss: 0.219633 \n",
      "\n",
      "Epoch 9\n",
      "-------------------------------\n",
      "[    1] loss: 0.669\n",
      "[   65] loss: 0.489\n",
      "Test error: \n",
      " Accuracy: 72.2%, Avg loss: 0.219034 \n",
      "\n",
      "Epoch 10\n",
      "-------------------------------\n",
      "[    1] loss: 0.349\n",
      "[   65] loss: 0.254\n",
      "Test error: \n",
      " Accuracy: 71.8%, Avg loss: 0.223217 \n",
      "\n",
      "Epoch 11\n",
      "-------------------------------\n",
      "[    1] loss: 0.330\n",
      "[   65] loss: 0.300\n",
      "Test error: \n",
      " Accuracy: 71.9%, Avg loss: 0.224409 \n",
      "\n",
      "Epoch 12\n",
      "-------------------------------\n",
      "[    1] loss: 0.242\n",
      "[   65] loss: 0.200\n",
      "Test error: \n",
      " Accuracy: 71.9%, Avg loss: 0.224743 \n",
      "\n",
      "Epoch 13\n",
      "-------------------------------\n",
      "[    1] loss: 0.206\n",
      "[   65] loss: 0.217\n",
      "Test error: \n",
      " Accuracy: 72.3%, Avg loss: 0.235585 \n",
      "\n",
      "Epoch 14\n",
      "-------------------------------\n",
      "[    1] loss: 0.125\n",
      "[   65] loss: 0.192\n",
      "Test error: \n",
      " Accuracy: 71.7%, Avg loss: 0.242330 \n",
      "\n",
      "Epoch 15\n",
      "-------------------------------\n",
      "[    1] loss: 0.098\n",
      "[   65] loss: 0.215\n",
      "Test error: \n",
      " Accuracy: 70.3%, Avg loss: 0.247732 \n",
      "\n",
      "Done!\n"
     ]
    }
   ],
   "source": [
    "epochs = 15\n",
    "for t in range(epochs):\n",
    "    print(f\"Epoch {t+1}\\n-------------------------------\")\n",
    "    model.train()\n",
    "    train_model(train_loader, model, cross, sgd, batch_size, device=device)\n",
    "    model.eval()\n",
    "    validate_model(validation_loader, model, cross, batch_size, device=device)\n",
    "print(\"Done!\")"
   ]
  },
  {
   "cell_type": "code",
   "execution_count": 25,
   "metadata": {
    "execution": {
     "iopub.execute_input": "2023-01-26T11:54:17.436315Z",
     "iopub.status.busy": "2023-01-26T11:54:17.435954Z",
     "iopub.status.idle": "2023-01-26T11:54:18.914797Z",
     "shell.execute_reply": "2023-01-26T11:54:18.913817Z",
     "shell.execute_reply.started": "2023-01-26T11:54:17.436283Z"
    }
   },
   "outputs": [],
   "source": [
    "torch.save(model.state_dict(), '/kaggle/working/model_vgg19')"
   ]
  },
  {
   "cell_type": "code",
   "execution_count": 26,
   "metadata": {
    "execution": {
     "iopub.execute_input": "2023-01-26T11:55:17.623471Z",
     "iopub.status.busy": "2023-01-26T11:55:17.623067Z",
     "iopub.status.idle": "2023-01-26T11:55:17.630462Z",
     "shell.execute_reply": "2023-01-26T11:55:17.629375Z",
     "shell.execute_reply.started": "2023-01-26T11:55:17.623437Z"
    }
   },
   "outputs": [],
   "source": [
    "model.eval()\n",
    "\n",
    "def test_model(test_loader, model, device=None):\n",
    "    predictions = []\n",
    "    \n",
    "    with torch.no_grad():\n",
    "        for image, label in test_loader:\n",
    "            # Move to GPU\n",
    "            image = image.to(device)\n",
    "            label = label.to(device)\n",
    "            \n",
    "            output = model(image)\n",
    "            prediction = (output.argmax(1)).cpu().detach().numpy()\n",
    "            predictions.extend(prediction)\n",
    "    \n",
    "    return predictions"
   ]
  },
  {
   "cell_type": "code",
   "execution_count": 27,
   "metadata": {
    "execution": {
     "iopub.execute_input": "2023-01-26T11:55:21.098956Z",
     "iopub.status.busy": "2023-01-26T11:55:21.098413Z",
     "iopub.status.idle": "2023-01-26T11:55:30.664076Z",
     "shell.execute_reply": "2023-01-26T11:55:30.663049Z",
     "shell.execute_reply.started": "2023-01-26T11:55:21.098916Z"
    }
   },
   "outputs": [],
   "source": [
    "predictions = test_model(test_loader, model, device)"
   ]
  },
  {
   "cell_type": "code",
   "execution_count": 28,
   "metadata": {
    "execution": {
     "iopub.execute_input": "2023-01-26T11:56:10.242284Z",
     "iopub.status.busy": "2023-01-26T11:56:10.241926Z",
     "iopub.status.idle": "2023-01-26T11:56:10.247671Z",
     "shell.execute_reply": "2023-01-26T11:56:10.246176Z",
     "shell.execute_reply.started": "2023-01-26T11:56:10.242253Z"
    }
   },
   "outputs": [],
   "source": [
    "predictions = [x + 1 for x in predictions]"
   ]
  },
  {
   "cell_type": "code",
   "execution_count": 29,
   "metadata": {
    "execution": {
     "iopub.execute_input": "2023-01-26T11:56:14.453477Z",
     "iopub.status.busy": "2023-01-26T11:56:14.453114Z",
     "iopub.status.idle": "2023-01-26T11:56:14.466648Z",
     "shell.execute_reply": "2023-01-26T11:56:14.465736Z",
     "shell.execute_reply.started": "2023-01-26T11:56:14.453447Z"
    }
   },
   "outputs": [
    {
     "data": {
      "text/html": [
       "<div>\n",
       "<style scoped>\n",
       "    .dataframe tbody tr th:only-of-type {\n",
       "        vertical-align: middle;\n",
       "    }\n",
       "\n",
       "    .dataframe tbody tr th {\n",
       "        vertical-align: top;\n",
       "    }\n",
       "\n",
       "    .dataframe thead th {\n",
       "        text-align: right;\n",
       "    }\n",
       "</style>\n",
       "<table border=\"1\" class=\"dataframe\">\n",
       "  <thead>\n",
       "    <tr style=\"text-align: right;\">\n",
       "      <th></th>\n",
       "      <th>filename</th>\n",
       "      <th>label</th>\n",
       "    </tr>\n",
       "  </thead>\n",
       "  <tbody>\n",
       "    <tr>\n",
       "      <th>0</th>\n",
       "      <td>img_1.jpg</td>\n",
       "      <td>3</td>\n",
       "    </tr>\n",
       "    <tr>\n",
       "      <th>1</th>\n",
       "      <td>img_10.jpg</td>\n",
       "      <td>4</td>\n",
       "    </tr>\n",
       "    <tr>\n",
       "      <th>2</th>\n",
       "      <td>img_100.jpg</td>\n",
       "      <td>2</td>\n",
       "    </tr>\n",
       "    <tr>\n",
       "      <th>3</th>\n",
       "      <td>img_101.jpg</td>\n",
       "      <td>3</td>\n",
       "    </tr>\n",
       "    <tr>\n",
       "      <th>4</th>\n",
       "      <td>img_102.jpg</td>\n",
       "      <td>6</td>\n",
       "    </tr>\n",
       "    <tr>\n",
       "      <th>...</th>\n",
       "      <td>...</td>\n",
       "      <td>...</td>\n",
       "    </tr>\n",
       "    <tr>\n",
       "      <th>761</th>\n",
       "      <td>img_95.jpg</td>\n",
       "      <td>4</td>\n",
       "    </tr>\n",
       "    <tr>\n",
       "      <th>762</th>\n",
       "      <td>img_96.jpg</td>\n",
       "      <td>3</td>\n",
       "    </tr>\n",
       "    <tr>\n",
       "      <th>763</th>\n",
       "      <td>img_97.jpg</td>\n",
       "      <td>3</td>\n",
       "    </tr>\n",
       "    <tr>\n",
       "      <th>764</th>\n",
       "      <td>img_98.jpg</td>\n",
       "      <td>3</td>\n",
       "    </tr>\n",
       "    <tr>\n",
       "      <th>765</th>\n",
       "      <td>img_99.jpg</td>\n",
       "      <td>6</td>\n",
       "    </tr>\n",
       "  </tbody>\n",
       "</table>\n",
       "<p>766 rows × 2 columns</p>\n",
       "</div>"
      ],
      "text/plain": [
       "        filename  label\n",
       "0      img_1.jpg      3\n",
       "1     img_10.jpg      4\n",
       "2    img_100.jpg      2\n",
       "3    img_101.jpg      3\n",
       "4    img_102.jpg      6\n",
       "..           ...    ...\n",
       "761   img_95.jpg      4\n",
       "762   img_96.jpg      3\n",
       "763   img_97.jpg      3\n",
       "764   img_98.jpg      3\n",
       "765   img_99.jpg      6\n",
       "\n",
       "[766 rows x 2 columns]"
      ]
     },
     "execution_count": 29,
     "metadata": {},
     "output_type": "execute_result"
    }
   ],
   "source": [
    "rijks_prediction = pd.DataFrame(\n",
    "    {'filename': test_set_filename,\n",
    "     'label': predictions\n",
    "    }\n",
    ")\n",
    "\n",
    "rijks_prediction"
   ]
  },
  {
   "cell_type": "code",
   "execution_count": 30,
   "metadata": {
    "execution": {
     "iopub.execute_input": "2023-01-26T11:56:22.948531Z",
     "iopub.status.busy": "2023-01-26T11:56:22.948155Z",
     "iopub.status.idle": "2023-01-26T11:56:22.964860Z",
     "shell.execute_reply": "2023-01-26T11:56:22.963735Z",
     "shell.execute_reply.started": "2023-01-26T11:56:22.948500Z"
    }
   },
   "outputs": [
    {
     "data": {
      "text/html": [
       "<div>\n",
       "<style scoped>\n",
       "    .dataframe tbody tr th:only-of-type {\n",
       "        vertical-align: middle;\n",
       "    }\n",
       "\n",
       "    .dataframe tbody tr th {\n",
       "        vertical-align: top;\n",
       "    }\n",
       "\n",
       "    .dataframe thead th {\n",
       "        text-align: right;\n",
       "    }\n",
       "</style>\n",
       "<table border=\"1\" class=\"dataframe\">\n",
       "  <thead>\n",
       "    <tr style=\"text-align: right;\">\n",
       "      <th></th>\n",
       "      <th>filename</th>\n",
       "      <th>predicted_label</th>\n",
       "      <th>actual_label</th>\n",
       "    </tr>\n",
       "  </thead>\n",
       "  <tbody>\n",
       "    <tr>\n",
       "      <th>0</th>\n",
       "      <td>img_1.jpg</td>\n",
       "      <td>3</td>\n",
       "      <td>5</td>\n",
       "    </tr>\n",
       "    <tr>\n",
       "      <th>1</th>\n",
       "      <td>img_10.jpg</td>\n",
       "      <td>4</td>\n",
       "      <td>6</td>\n",
       "    </tr>\n",
       "    <tr>\n",
       "      <th>2</th>\n",
       "      <td>img_100.jpg</td>\n",
       "      <td>2</td>\n",
       "      <td>1</td>\n",
       "    </tr>\n",
       "    <tr>\n",
       "      <th>3</th>\n",
       "      <td>img_101.jpg</td>\n",
       "      <td>3</td>\n",
       "      <td>4</td>\n",
       "    </tr>\n",
       "    <tr>\n",
       "      <th>4</th>\n",
       "      <td>img_102.jpg</td>\n",
       "      <td>6</td>\n",
       "      <td>1</td>\n",
       "    </tr>\n",
       "    <tr>\n",
       "      <th>...</th>\n",
       "      <td>...</td>\n",
       "      <td>...</td>\n",
       "      <td>...</td>\n",
       "    </tr>\n",
       "    <tr>\n",
       "      <th>761</th>\n",
       "      <td>img_95.jpg</td>\n",
       "      <td>4</td>\n",
       "      <td>5</td>\n",
       "    </tr>\n",
       "    <tr>\n",
       "      <th>762</th>\n",
       "      <td>img_96.jpg</td>\n",
       "      <td>3</td>\n",
       "      <td>5</td>\n",
       "    </tr>\n",
       "    <tr>\n",
       "      <th>763</th>\n",
       "      <td>img_97.jpg</td>\n",
       "      <td>3</td>\n",
       "      <td>3</td>\n",
       "    </tr>\n",
       "    <tr>\n",
       "      <th>764</th>\n",
       "      <td>img_98.jpg</td>\n",
       "      <td>3</td>\n",
       "      <td>3</td>\n",
       "    </tr>\n",
       "    <tr>\n",
       "      <th>765</th>\n",
       "      <td>img_99.jpg</td>\n",
       "      <td>6</td>\n",
       "      <td>1</td>\n",
       "    </tr>\n",
       "  </tbody>\n",
       "</table>\n",
       "<p>766 rows × 3 columns</p>\n",
       "</div>"
      ],
      "text/plain": [
       "        filename  predicted_label  actual_label\n",
       "0      img_1.jpg                3             5\n",
       "1     img_10.jpg                4             6\n",
       "2    img_100.jpg                2             1\n",
       "3    img_101.jpg                3             4\n",
       "4    img_102.jpg                6             1\n",
       "..           ...              ...           ...\n",
       "761   img_95.jpg                4             5\n",
       "762   img_96.jpg                3             5\n",
       "763   img_97.jpg                3             3\n",
       "764   img_98.jpg                3             3\n",
       "765   img_99.jpg                6             1\n",
       "\n",
       "[766 rows x 3 columns]"
      ]
     },
     "execution_count": 30,
     "metadata": {},
     "output_type": "execute_result"
    }
   ],
   "source": [
    "rijks_prediction.rename(columns = {'label': 'predicted_label'}, inplace=True)\n",
    "rijks_prediction['actual_label'] = df_test['label']\n",
    "rijks_prediction"
   ]
  },
  {
   "cell_type": "code",
   "execution_count": 31,
   "metadata": {
    "execution": {
     "iopub.execute_input": "2023-01-26T11:56:26.185650Z",
     "iopub.status.busy": "2023-01-26T11:56:26.185290Z",
     "iopub.status.idle": "2023-01-26T11:56:26.194615Z",
     "shell.execute_reply": "2023-01-26T11:56:26.193580Z",
     "shell.execute_reply.started": "2023-01-26T11:56:26.185618Z"
    }
   },
   "outputs": [
    {
     "data": {
      "text/plain": [
       "27.415143603133156"
      ]
     },
     "execution_count": 31,
     "metadata": {},
     "output_type": "execute_result"
    }
   ],
   "source": [
    "correct = (rijks_prediction['predicted_label'] == rijks_prediction['actual_label'])\n",
    "accuracy = (correct.sum() / correct.size) * 100\n",
    "accuracy"
   ]
  },
  {
   "cell_type": "code",
   "execution_count": 32,
   "metadata": {
    "execution": {
     "iopub.execute_input": "2023-01-26T11:57:03.123796Z",
     "iopub.status.busy": "2023-01-26T11:57:03.123405Z",
     "iopub.status.idle": "2023-01-26T11:57:03.133378Z",
     "shell.execute_reply": "2023-01-26T11:57:03.132276Z",
     "shell.execute_reply.started": "2023-01-26T11:57:03.123764Z"
    }
   },
   "outputs": [],
   "source": [
    "rijks_prediction.to_csv('/kaggle/working/vgg19_predictions_15epochs', index=False)"
   ]
  },
  {
   "cell_type": "code",
   "execution_count": 3,
   "metadata": {},
   "outputs": [
    {
     "data": {
      "text/html": [
       "<div>\n",
       "<style scoped>\n",
       "    .dataframe tbody tr th:only-of-type {\n",
       "        vertical-align: middle;\n",
       "    }\n",
       "\n",
       "    .dataframe tbody tr th {\n",
       "        vertical-align: top;\n",
       "    }\n",
       "\n",
       "    .dataframe thead th {\n",
       "        text-align: right;\n",
       "    }\n",
       "</style>\n",
       "<table border=\"1\" class=\"dataframe\">\n",
       "  <thead>\n",
       "    <tr style=\"text-align: right;\">\n",
       "      <th></th>\n",
       "      <th>filename</th>\n",
       "      <th>predicted_label</th>\n",
       "      <th>actual_label</th>\n",
       "    </tr>\n",
       "  </thead>\n",
       "  <tbody>\n",
       "    <tr>\n",
       "      <th>0</th>\n",
       "      <td>img_1.jpg</td>\n",
       "      <td>3</td>\n",
       "      <td>5</td>\n",
       "    </tr>\n",
       "    <tr>\n",
       "      <th>1</th>\n",
       "      <td>img_10.jpg</td>\n",
       "      <td>4</td>\n",
       "      <td>6</td>\n",
       "    </tr>\n",
       "    <tr>\n",
       "      <th>2</th>\n",
       "      <td>img_100.jpg</td>\n",
       "      <td>2</td>\n",
       "      <td>1</td>\n",
       "    </tr>\n",
       "    <tr>\n",
       "      <th>3</th>\n",
       "      <td>img_101.jpg</td>\n",
       "      <td>3</td>\n",
       "      <td>4</td>\n",
       "    </tr>\n",
       "    <tr>\n",
       "      <th>4</th>\n",
       "      <td>img_102.jpg</td>\n",
       "      <td>6</td>\n",
       "      <td>1</td>\n",
       "    </tr>\n",
       "    <tr>\n",
       "      <th>...</th>\n",
       "      <td>...</td>\n",
       "      <td>...</td>\n",
       "      <td>...</td>\n",
       "    </tr>\n",
       "    <tr>\n",
       "      <th>761</th>\n",
       "      <td>img_95.jpg</td>\n",
       "      <td>4</td>\n",
       "      <td>5</td>\n",
       "    </tr>\n",
       "    <tr>\n",
       "      <th>762</th>\n",
       "      <td>img_96.jpg</td>\n",
       "      <td>3</td>\n",
       "      <td>5</td>\n",
       "    </tr>\n",
       "    <tr>\n",
       "      <th>763</th>\n",
       "      <td>img_97.jpg</td>\n",
       "      <td>3</td>\n",
       "      <td>3</td>\n",
       "    </tr>\n",
       "    <tr>\n",
       "      <th>764</th>\n",
       "      <td>img_98.jpg</td>\n",
       "      <td>3</td>\n",
       "      <td>3</td>\n",
       "    </tr>\n",
       "    <tr>\n",
       "      <th>765</th>\n",
       "      <td>img_99.jpg</td>\n",
       "      <td>6</td>\n",
       "      <td>1</td>\n",
       "    </tr>\n",
       "  </tbody>\n",
       "</table>\n",
       "<p>766 rows × 3 columns</p>\n",
       "</div>"
      ],
      "text/plain": [
       "        filename  predicted_label  actual_label\n",
       "0      img_1.jpg                3             5\n",
       "1     img_10.jpg                4             6\n",
       "2    img_100.jpg                2             1\n",
       "3    img_101.jpg                3             4\n",
       "4    img_102.jpg                6             1\n",
       "..           ...              ...           ...\n",
       "761   img_95.jpg                4             5\n",
       "762   img_96.jpg                3             5\n",
       "763   img_97.jpg                3             3\n",
       "764   img_98.jpg                3             3\n",
       "765   img_99.jpg                6             1\n",
       "\n",
       "[766 rows x 3 columns]"
      ]
     },
     "execution_count": 3,
     "metadata": {},
     "output_type": "execute_result"
    }
   ],
   "source": [
    "rijks_prediction = pd.read_csv('predictions/vgg19_predictions_15epochs')\n",
    "rijks_prediction"
   ]
  },
  {
   "cell_type": "code",
   "execution_count": 11,
   "metadata": {},
   "outputs": [
    {
     "ename": "TypeError",
     "evalue": "cross_entropy_loss(): argument 'input' (position 1) must be Tensor, not numpy.int64",
     "output_type": "error",
     "traceback": [
      "\u001b[1;31m---------------------------------------------------------------------------\u001b[0m",
      "\u001b[1;31mTypeError\u001b[0m                                 Traceback (most recent call last)",
      "\u001b[1;32m<ipython-input-11-62807c364396>\u001b[0m in \u001b[0;36m<module>\u001b[1;34m\u001b[0m\n\u001b[0;32m      1\u001b[0m \u001b[0mloss\u001b[0m \u001b[1;33m=\u001b[0m \u001b[1;36m0\u001b[0m\u001b[1;33m\u001b[0m\u001b[1;33m\u001b[0m\u001b[0m\n\u001b[0;32m      2\u001b[0m \u001b[1;32mfor\u001b[0m \u001b[0mi\u001b[0m \u001b[1;32min\u001b[0m \u001b[0mrange\u001b[0m\u001b[1;33m(\u001b[0m\u001b[1;36m0\u001b[0m\u001b[1;33m,\u001b[0m \u001b[0mlen\u001b[0m\u001b[1;33m(\u001b[0m\u001b[0mrijks_prediction\u001b[0m\u001b[1;33m)\u001b[0m\u001b[1;33m)\u001b[0m\u001b[1;33m:\u001b[0m\u001b[1;33m\u001b[0m\u001b[1;33m\u001b[0m\u001b[0m\n\u001b[1;32m----> 3\u001b[1;33m     \u001b[0mloss\u001b[0m \u001b[1;33m+=\u001b[0m \u001b[0mcross\u001b[0m\u001b[1;33m(\u001b[0m\u001b[0mrijks_prediction\u001b[0m\u001b[1;33m[\u001b[0m\u001b[1;34m'predicted_label'\u001b[0m\u001b[1;33m]\u001b[0m\u001b[1;33m.\u001b[0m\u001b[0miloc\u001b[0m\u001b[1;33m[\u001b[0m\u001b[0mi\u001b[0m\u001b[1;33m]\u001b[0m\u001b[1;33m,\u001b[0m \u001b[0mrijks_prediction\u001b[0m\u001b[1;33m[\u001b[0m\u001b[1;34m'actual_label'\u001b[0m\u001b[1;33m]\u001b[0m\u001b[1;33m.\u001b[0m\u001b[0miloc\u001b[0m\u001b[1;33m[\u001b[0m\u001b[0mi\u001b[0m\u001b[1;33m]\u001b[0m\u001b[1;33m)\u001b[0m\u001b[1;33m.\u001b[0m\u001b[0mitem\u001b[0m\u001b[1;33m(\u001b[0m\u001b[1;33m)\u001b[0m\u001b[1;33m\u001b[0m\u001b[1;33m\u001b[0m\u001b[0m\n\u001b[0m\u001b[0;32m      4\u001b[0m \u001b[1;33m\u001b[0m\u001b[0m\n\u001b[0;32m      5\u001b[0m \u001b[1;31m# loss = cross_entropy_loss(np.array(rijks_prediction['actual_label']), np.array(rijks_prediction['predicted_label']))\u001b[0m\u001b[1;33m\u001b[0m\u001b[1;33m\u001b[0m\u001b[1;33m\u001b[0m\u001b[0m\n",
      "\u001b[1;32m~\\anaconda3\\lib\\site-packages\\torch\\nn\\modules\\module.py\u001b[0m in \u001b[0;36m_call_impl\u001b[1;34m(self, *input, **kwargs)\u001b[0m\n\u001b[0;32m   1188\u001b[0m         if not (self._backward_hooks or self._forward_hooks or self._forward_pre_hooks or _global_backward_hooks\n\u001b[0;32m   1189\u001b[0m                 or _global_forward_hooks or _global_forward_pre_hooks):\n\u001b[1;32m-> 1190\u001b[1;33m             \u001b[1;32mreturn\u001b[0m \u001b[0mforward_call\u001b[0m\u001b[1;33m(\u001b[0m\u001b[1;33m*\u001b[0m\u001b[0minput\u001b[0m\u001b[1;33m,\u001b[0m \u001b[1;33m**\u001b[0m\u001b[0mkwargs\u001b[0m\u001b[1;33m)\u001b[0m\u001b[1;33m\u001b[0m\u001b[1;33m\u001b[0m\u001b[0m\n\u001b[0m\u001b[0;32m   1191\u001b[0m         \u001b[1;31m# Do not call functions when jit is used\u001b[0m\u001b[1;33m\u001b[0m\u001b[1;33m\u001b[0m\u001b[1;33m\u001b[0m\u001b[0m\n\u001b[0;32m   1192\u001b[0m         \u001b[0mfull_backward_hooks\u001b[0m\u001b[1;33m,\u001b[0m \u001b[0mnon_full_backward_hooks\u001b[0m \u001b[1;33m=\u001b[0m \u001b[1;33m[\u001b[0m\u001b[1;33m]\u001b[0m\u001b[1;33m,\u001b[0m \u001b[1;33m[\u001b[0m\u001b[1;33m]\u001b[0m\u001b[1;33m\u001b[0m\u001b[1;33m\u001b[0m\u001b[0m\n",
      "\u001b[1;32m~\\anaconda3\\lib\\site-packages\\torch\\nn\\modules\\loss.py\u001b[0m in \u001b[0;36mforward\u001b[1;34m(self, input, target)\u001b[0m\n\u001b[0;32m   1172\u001b[0m \u001b[1;33m\u001b[0m\u001b[0m\n\u001b[0;32m   1173\u001b[0m     \u001b[1;32mdef\u001b[0m \u001b[0mforward\u001b[0m\u001b[1;33m(\u001b[0m\u001b[0mself\u001b[0m\u001b[1;33m,\u001b[0m \u001b[0minput\u001b[0m\u001b[1;33m:\u001b[0m \u001b[0mTensor\u001b[0m\u001b[1;33m,\u001b[0m \u001b[0mtarget\u001b[0m\u001b[1;33m:\u001b[0m \u001b[0mTensor\u001b[0m\u001b[1;33m)\u001b[0m \u001b[1;33m->\u001b[0m \u001b[0mTensor\u001b[0m\u001b[1;33m:\u001b[0m\u001b[1;33m\u001b[0m\u001b[1;33m\u001b[0m\u001b[0m\n\u001b[1;32m-> 1174\u001b[1;33m         return F.cross_entropy(input, target, weight=self.weight,\n\u001b[0m\u001b[0;32m   1175\u001b[0m                                \u001b[0mignore_index\u001b[0m\u001b[1;33m=\u001b[0m\u001b[0mself\u001b[0m\u001b[1;33m.\u001b[0m\u001b[0mignore_index\u001b[0m\u001b[1;33m,\u001b[0m \u001b[0mreduction\u001b[0m\u001b[1;33m=\u001b[0m\u001b[0mself\u001b[0m\u001b[1;33m.\u001b[0m\u001b[0mreduction\u001b[0m\u001b[1;33m,\u001b[0m\u001b[1;33m\u001b[0m\u001b[1;33m\u001b[0m\u001b[0m\n\u001b[0;32m   1176\u001b[0m                                label_smoothing=self.label_smoothing)\n",
      "\u001b[1;32m~\\anaconda3\\lib\\site-packages\\torch\\nn\\functional.py\u001b[0m in \u001b[0;36mcross_entropy\u001b[1;34m(input, target, weight, size_average, ignore_index, reduce, reduction, label_smoothing)\u001b[0m\n\u001b[0;32m   3024\u001b[0m     \u001b[1;32mif\u001b[0m \u001b[0msize_average\u001b[0m \u001b[1;32mis\u001b[0m \u001b[1;32mnot\u001b[0m \u001b[1;32mNone\u001b[0m \u001b[1;32mor\u001b[0m \u001b[0mreduce\u001b[0m \u001b[1;32mis\u001b[0m \u001b[1;32mnot\u001b[0m \u001b[1;32mNone\u001b[0m\u001b[1;33m:\u001b[0m\u001b[1;33m\u001b[0m\u001b[1;33m\u001b[0m\u001b[0m\n\u001b[0;32m   3025\u001b[0m         \u001b[0mreduction\u001b[0m \u001b[1;33m=\u001b[0m \u001b[0m_Reduction\u001b[0m\u001b[1;33m.\u001b[0m\u001b[0mlegacy_get_string\u001b[0m\u001b[1;33m(\u001b[0m\u001b[0msize_average\u001b[0m\u001b[1;33m,\u001b[0m \u001b[0mreduce\u001b[0m\u001b[1;33m)\u001b[0m\u001b[1;33m\u001b[0m\u001b[1;33m\u001b[0m\u001b[0m\n\u001b[1;32m-> 3026\u001b[1;33m     \u001b[1;32mreturn\u001b[0m \u001b[0mtorch\u001b[0m\u001b[1;33m.\u001b[0m\u001b[0m_C\u001b[0m\u001b[1;33m.\u001b[0m\u001b[0m_nn\u001b[0m\u001b[1;33m.\u001b[0m\u001b[0mcross_entropy_loss\u001b[0m\u001b[1;33m(\u001b[0m\u001b[0minput\u001b[0m\u001b[1;33m,\u001b[0m \u001b[0mtarget\u001b[0m\u001b[1;33m,\u001b[0m \u001b[0mweight\u001b[0m\u001b[1;33m,\u001b[0m \u001b[0m_Reduction\u001b[0m\u001b[1;33m.\u001b[0m\u001b[0mget_enum\u001b[0m\u001b[1;33m(\u001b[0m\u001b[0mreduction\u001b[0m\u001b[1;33m)\u001b[0m\u001b[1;33m,\u001b[0m \u001b[0mignore_index\u001b[0m\u001b[1;33m,\u001b[0m \u001b[0mlabel_smoothing\u001b[0m\u001b[1;33m)\u001b[0m\u001b[1;33m\u001b[0m\u001b[1;33m\u001b[0m\u001b[0m\n\u001b[0m\u001b[0;32m   3027\u001b[0m \u001b[1;33m\u001b[0m\u001b[0m\n\u001b[0;32m   3028\u001b[0m \u001b[1;33m\u001b[0m\u001b[0m\n",
      "\u001b[1;31mTypeError\u001b[0m: cross_entropy_loss(): argument 'input' (position 1) must be Tensor, not numpy.int64"
     ]
    }
   ],
   "source": [
    "loss = 0\n",
    "for i in range(0, len(rijks_prediction)):\n",
    "    loss += cross(rijks_prediction['predicted_label'].iloc[i], rijks_prediction['actual_label'].iloc[i]).item()\n",
    "\n",
    "# loss = cross_entropy_loss(np.array(rijks_prediction['actual_label']), np.array(rijks_prediction['predicted_label']))\n",
    "print(\"Loss value: \", loss)"
   ]
  },
  {
   "cell_type": "code",
   "execution_count": null,
   "metadata": {},
   "outputs": [],
   "source": []
  }
 ],
 "metadata": {
  "kernelspec": {
   "display_name": "Python 3",
   "language": "python",
   "name": "python3"
  },
  "language_info": {
   "codemirror_mode": {
    "name": "ipython",
    "version": 3
   },
   "file_extension": ".py",
   "mimetype": "text/x-python",
   "name": "python",
   "nbconvert_exporter": "python",
   "pygments_lexer": "ipython3",
   "version": "3.8.5"
  }
 },
 "nbformat": 4,
 "nbformat_minor": 4
}
